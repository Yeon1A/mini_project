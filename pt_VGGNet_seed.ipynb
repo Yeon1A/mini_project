{
 "cells": [
  {
   "cell_type": "code",
   "execution_count": 1,
   "id": "376278dc",
   "metadata": {},
   "outputs": [],
   "source": [
    "import torch\n",
    "import torch.nn as nn\n",
    "import torch.optim as optim\n",
    "from torch.utils.data import DataLoader, random_split, Dataset\n",
    "import torch.nn.functional as F\n",
    "from torchvision import datasets, transforms, models\n",
    "import numpy as np\n",
    "import matplotlib.pyplot as plt\n",
    "import os\n",
    "from PIL import Image\n",
    "from sklearn.model_selection import train_test_split\n",
    "import timm\n",
    "import random"
   ]
  },
  {
   "cell_type": "code",
   "execution_count": 2,
   "id": "0c6e4e0f",
   "metadata": {},
   "outputs": [],
   "source": [
    "def seed_everything(seed):\n",
    "    torch.manual_seed(seed) #torch를 거치는 모든 난수들의 생성순서를 고정한다\n",
    "    torch.cuda.manual_seed(seed) #cuda를 사용하는 메소드들의 난수시드는 따로 고정해줘야한다 \n",
    "    torch.cuda.manual_seed_all(seed)  # if use multi-GPU\n",
    "    torch.backends.cudnn.deterministic = True #딥러닝에 특화된 CuDNN의 난수시드도 고정 \n",
    "    torch.backends.cudnn.benchmark = False\n",
    "    np.random.seed(seed) #numpy를 사용할 경우 고정\n",
    "    random.seed(seed) #파이썬 자체 모듈 random 모듈의 시드 고정\n",
    "seed_everything(5148)"
   ]
  },
  {
   "cell_type": "code",
   "execution_count": 3,
   "id": "bc50c98a",
   "metadata": {},
   "outputs": [],
   "source": [
    "dataset_path = './Rice_Image_Dataset' #데이터 셋 경로 정의\n",
    "classes = [] # 클래스 이름을 저장할 빈 리스트를 초기화\n",
    "\n",
    "#데이터셋 경로의 폴더들을 반복하는 데,\n",
    "for folder in os.listdir(dataset_path):\n",
    "    folder_path = os.path.join(dataset_path, folder)\n",
    "    if os.path.isdir(folder_path):  # 만약 폴더라면\n",
    "        classes.append(folder) # 폴더의 이름을 class리스트에 추가\n"
   ]
  },
  {
   "cell_type": "code",
   "execution_count": 4,
   "id": "a4c51ece",
   "metadata": {},
   "outputs": [],
   "source": [
    "img_sample = [] # 샘플 이미지를 저장할 빈 리스트\n",
    "# 각 클래스에 대해 반복\n",
    "for cat in classes:\n",
    "    folder_path = os.path.join(dataset_path, cat) #폴더 주소를 만들고\n",
    "    # 각 클래스의 이미지들에 대해\n",
    "    for img_name in os.listdir(folder_path):\n",
    "        # 이미지 샘플파일을 통해 이미지를 첫번째 이미지를 보고 루프 종료\n",
    "        img_path = os.path.join(folder_path, img_name)\n",
    "        img = Image.open(img_path)\n",
    "        img_sample.append(img)\n",
    "        break"
   ]
  },
  {
   "cell_type": "code",
   "execution_count": 5,
   "id": "86421971",
   "metadata": {},
   "outputs": [],
   "source": [
    "# 이미지 경로와 해당하는 라벨을 저장할 빈 리스트를 초기화합니다.\n",
    "all_images = []\n",
    "all_labels = []\n",
    "# 각 클래스에 대해\n",
    "for label in classes:\n",
    "    folder = os.path.join(dataset_path, label)\n",
    "    # 이미지 경로와 라벨을 저장합니다.\n",
    "    for img_name in os.listdir(folder):\n",
    "        img_path = os.path.join(folder, img_name)\n",
    "        all_images.append(img_path)\n",
    "        all_labels.append(label)"
   ]
  },
  {
   "cell_type": "code",
   "execution_count": 6,
   "id": "e54f04bc",
   "metadata": {},
   "outputs": [],
   "source": [
    "# Train : Temp(Test+Validation) = 6: 4로 나누고,\n",
    "train_images, temp_images, train_labels, temp_labels = train_test_split(\n",
    "    all_images, all_labels, test_size=0.4, stratify=all_labels, random_state=42\n",
    ")\n",
    "\n",
    "# Validation: Test= 5:5로 나누면\n",
    "val_images, test_images, val_labels, test_labels = train_test_split(\n",
    "    temp_images, temp_labels, test_size=0.5, stratify=temp_labels, random_state=42\n",
    ")\n",
    "# Train:Validation:Test=6:2:2로 데이터를 분할함"
   ]
  },
  {
   "cell_type": "code",
   "execution_count": 7,
   "id": "0056abdb",
   "metadata": {},
   "outputs": [],
   "source": [
    "# 사용자 정의 데이터 셋 클래스 정의\n",
    "class CustomImageDataset(Dataset):\n",
    "    def __init__(self, image_paths, labels, transform=None):\n",
    "        self.image_paths = image_paths\n",
    "        self.labels = labels\n",
    "        self.transform = transform\n",
    "        self.label_to_int = {label: idx for idx, label in enumerate(sorted(set(labels)))}\n",
    "    def __len__(self):\n",
    "        return len(self.image_paths)\n",
    "\n",
    "    def __getitem__(self, idx):\n",
    "        img_path = self.image_paths[idx]\n",
    "        label = self.labels[idx]\n",
    "        image = Image.open(img_path).convert('RGB') # 이미지를 열고 RGB로 변환\n",
    "        if self.transform:\n",
    "            image = self.transform(image)\n",
    "        # Convert the label from string to integer\n",
    "        label = self.label_to_int[label]\n",
    "        return image, label\n"
   ]
  },
  {
   "cell_type": "code",
   "execution_count": 8,
   "id": "151b12ce",
   "metadata": {},
   "outputs": [],
   "source": [
    "# 데이터 변환을 정의\n",
    "# 이미지 크기 조절 및 텐서로 변환\n",
    "transform = transforms.Compose([\n",
    "    transforms.Resize((224, 224)),\n",
    "    transforms.ToTensor()\n",
    "])\n",
    "# Train Validation Test data set 생성\n",
    "train_dataset = CustomImageDataset(train_images, train_labels, transform=transform)\n",
    "val_dataset = CustomImageDataset(val_images, val_labels, transform=transform)\n",
    "test_dataset = CustomImageDataset(test_images, test_labels, transform=transform)\n",
    "\n",
    "# Create data loaders\n",
    "train_loader = DataLoader(train_dataset, batch_size=16, shuffle=True)\n",
    "val_loader = DataLoader(val_dataset, batch_size=16, shuffle=False)\n",
    "test_loader = DataLoader(test_dataset, batch_size=16, shuffle=False)"
   ]
  },
  {
   "cell_type": "code",
   "execution_count": 9,
   "id": "df2e5310",
   "metadata": {},
   "outputs": [],
   "source": [
    "# Pytorch의 nn.Module을 상속하여 VGGNet 모델을 정의합니다.\n",
    "class VGGNet(nn.Module):\n",
    "    def __init__(self, num_classes=5):  #클래스가 5가지\n",
    "        super(VGGNet, self).__init__()\n",
    "        # timm 라이브러리를 사용하여 VGG16 모델을 생성합니다.\n",
    "        self.vggnet= timm.create_model('vgg16', pretrained=False, num_classes=num_classes)\n",
    "\n",
    "    def forward(self, x):\n",
    "        # 정방향 전파(forward pass) 메서드를 정의\n",
    "        return self.vggnet(x)"
   ]
  },
  {
   "cell_type": "code",
   "execution_count": 10,
   "id": "f79d0ab7",
   "metadata": {},
   "outputs": [],
   "source": [
    "# GPU가 이용가능하면 CUDA 디바이스를 사용하도록 설정\n",
    "device = torch.device(\"cuda\" if torch.cuda.is_available() else \"cpu\")\n",
    "# 앞에서 정의한 VGGNet 모델을 생성하고, 이를 지정된 디바이스로 이동\n",
    "model = VGGNet().to(device)\n",
    "# 손실 함수로 CrossEntropy Loss를 사용\n",
    "criterion = nn.CrossEntropyLoss()\n",
    "# Optimizer와 learning rate를 설정\n",
    "optimizer = optim.Adam(model.parameters(), lr=0.0003)\n"
   ]
  },
  {
   "cell_type": "code",
   "execution_count": 11,
   "id": "7fb7efc0",
   "metadata": {},
   "outputs": [],
   "source": [
    "num_epochs = 3\n",
    "line1=[]\n",
    "line2=[]\n",
    "line3=[]\n",
    "line4=[]"
   ]
  },
  {
   "cell_type": "code",
   "execution_count": 12,
   "id": "e8c53a44",
   "metadata": {},
   "outputs": [
    {
     "name": "stdout",
     "output_type": "stream",
     "text": [
      "Epoch 1/3, Training Loss: 0.1883, Training Accuracy: 93.1333%, Validation Loss: 0.1477, Validation Accuracy: 95.1933%\n",
      "Epoch 2/3, Training Loss: 0.0991, Training Accuracy: 96.7489%, Validation Loss: 0.0840, Validation Accuracy: 97.2267%\n",
      "Epoch 3/3, Training Loss: 0.0770, Training Accuracy: 97.5822%, Validation Loss: 0.0638, Validation Accuracy: 97.8867%\n"
     ]
    }
   ],
   "source": [
    "# 주어진 epoch 수 만큼 반복합니다.\n",
    "for epoch in range(num_epochs):\n",
    "    model.train()  # 모델을 훈련 모드로 설정\n",
    "    # 훈련 손실 및 정확도를 초기화\n",
    "    total_train_loss = 0.0\n",
    "    correct_train = 0\n",
    "    total_train = 0\n",
    "    # 훈련 데이터 로더에서 미니 배치를 가져와 학습을 진행\n",
    "    for batch_idx, (data, target) in enumerate(train_loader):\n",
    "        # 데이터와 타겟을 지정된 디바이스로 이동\n",
    "        data, target = data.to(device), target.to(device)\n",
    "        # 모델의 파라미터 gradient를 초기화\n",
    "        optimizer.zero_grad()\n",
    "        # 정방향 전파를 수행\n",
    "        outputs = model(data)\n",
    "        # 훈련 손실을 게산\n",
    "        loss = criterion(outputs, target)\n",
    "        # 역방향 전파 및 최적화를 수행\n",
    "        loss.backward()\n",
    "        optimizer.step()\n",
    "        # 훈련 손실을 누적\n",
    "        total_train_loss += loss.item()\n",
    "        # 훈련 정확도를 계산\n",
    "        _, predicted = torch.max(outputs.data, 1)\n",
    "        total_train += target.size(0)\n",
    "        correct_train += (predicted == target).sum().item()\n",
    "    # 평균 훈련 손실과 정확도를 계산\n",
    "    avg_train_loss = total_train_loss / len(train_loader)\n",
    "    train_accuracy = 100 * correct_train / total_train\n",
    "    # Validation\n",
    "    model.eval()  # 모델을 평가 모드로 설정\n",
    "    # 검증 손실 \n",
    "    total_val_loss = 0.0\n",
    "    correct_val = 0\n",
    "    total_val = 0\n",
    "    # 검증 데이터 로더에서 미니 배치를 가져와 검증 수행\n",
    "    with torch.no_grad():\n",
    "        for data, target in val_loader:\n",
    "            # 데이터와 타겟을 지정된 디바이스로 이동\n",
    "            data, target = data.to(device), target.to(device)\n",
    "            # 정방향 전파를 수행\n",
    "            outputs = model(data)\n",
    "            # 검증 손실을 계산\n",
    "            val_loss = criterion(outputs, target)\n",
    "            # 검증 손실을 누적\n",
    "            total_val_loss += val_loss.item()\n",
    "            # 감증 정확도를 계산\n",
    "            _, predicted = torch.max(outputs.data, 1)\n",
    "            total_val += target.size(0)\n",
    "            correct_val += (predicted == target).sum().item()\n",
    "    # 평균 검증 손실과 정확도를 계산\n",
    "    avg_val_loss = total_val_loss / len(val_loader)\n",
    "    val_accuracy = 100 * correct_val / total_val\n",
    "    # 그래프를 위한 train accuracy, loss, validation accuracy, loss를 출력하기 위해 채워넣음\n",
    "    line1.append(train_accuracy)\n",
    "    line2.append(val_accuracy)\n",
    "    line3.append(avg_train_loss)\n",
    "    line4.append(avg_val_loss)\n",
    "    # 에폭당 결과 출력\n",
    "    print(f\"Epoch {epoch+1}/{num_epochs}, Training Loss: {avg_train_loss:.4f}, Training Accuracy: {train_accuracy:.4f}%, Validation Loss: {avg_val_loss:.4f}, Validation Accuracy: {val_accuracy:.4f}%\")\n"
   ]
  },
  {
   "cell_type": "code",
   "execution_count": 13,
   "id": "b15b90a7",
   "metadata": {},
   "outputs": [
    {
     "name": "stdout",
     "output_type": "stream",
     "text": [
      "Test Accuracy: 97.9867\n"
     ]
    },
    {
     "data": {
      "image/png": "[encoded data removed]",
      "text/plain": [
       "<Figure size 640x480 with 4 Axes>"
      ]
     },
     "metadata": {},
     "output_type": "display_data"
    }
   ],
   "source": [
    "# 테스트 데이터 셋에서 정확도를 계산하기 위한 변수 초기화\n",
    "correct = 0\n",
    "total = 0\n",
    "# 평가 모드로 모델을 설정하고\n",
    "# 테스트 데이터 셋을 이용하여 정확도 계산\n",
    "with torch.no_grad():\n",
    "    model.eval()\n",
    "    for inputs, labels in test_loader:\n",
    "        inputs, labels = inputs.to(device), labels.to(device)\n",
    "        outputs = model(inputs)\n",
    "        _, predicted = torch.max(outputs, 1)\n",
    "        total += labels.size(0)\n",
    "        correct += (predicted == labels).sum().item()\n",
    "# 전체 정확도 계산 및 출력\n",
    "accuracy = correct / total * 100\n",
    "print(f\"Test Accuracy: {accuracy:.4f}\")\n",
    "\n",
    "epoch_numbers=[i+1 for i in range(num_epochs)]\n",
    "plt.figure()\n",
    "plt.subplot(2, 2, 1) \n",
    "plt.plot(epoch_numbers, line1, label='Train Accuracy', color='red')\n",
    "plt.xlabel('Epoch')\n",
    "plt.ylabel('Accuracy')\n",
    "plt.legend()\n",
    "\n",
    "\n",
    "plt.subplot(2, 2, 2)  \n",
    "plt.plot(epoch_numbers, line2, label='Validation Accuracy', color='blue')\n",
    "plt.xlabel('Epoch')\n",
    "plt.ylabel('Accuracy')\n",
    "plt.legend()\n",
    "\n",
    "plt.subplot(2, 2, 3) \n",
    "plt.plot(epoch_numbers, line3, label='Train Loss', color='red')\n",
    "plt.xlabel('Epoch')\n",
    "plt.ylabel('Loss')\n",
    "plt.legend()\n",
    "\n",
    "\n",
    "plt.subplot(2, 2, 4)  \n",
    "plt.plot(epoch_numbers, line4, label='Validation Loss', color='blue')\n",
    "plt.xlabel('Epoch')\n",
    "plt.ylabel('Loss')\n",
    "plt.legend()\n",
    "plt.tight_layout()  # 서브플롯간 간격 조절\n",
    "plt.show()"
   ]
  },
  {
   "cell_type": "code",
   "execution_count": 15,
   "id": "476d82c1",
   "metadata": {},
   "outputs": [],
   "source": [
    "torch.save(model.state_dict(), 'VGGNet_seed.pt')"
   ]
  }
 ],
 "metadata": {
  "kernelspec": {
   "display_name": "Python 3 (ipykernel)",
   "language": "python",
   "name": "python3"
  },
  "language_info": {
   "codemirror_mode": {
    "name": "ipython",
    "version": 3
   },
   "file_extension": ".py",
   "mimetype": "text/x-python",
   "name": "python",
   "nbconvert_exporter": "python",
   "pygments_lexer": "ipython3",
   "version": "3.10.9"
  }
 },
 "nbformat": 4,
 "nbformat_minor": 5
}

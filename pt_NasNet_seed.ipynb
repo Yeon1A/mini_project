{
 "cells": [
  {
   "cell_type": "code",
   "execution_count": 1,
   "id": "376278dc",
   "metadata": {},
   "outputs": [],
   "source": [
    "import torch\n",
    "import torch.nn as nn\n",
    "import torch.optim as optim\n",
    "from torch.utils.data import DataLoader, random_split, Dataset\n",
    "import torch.nn.functional as F\n",
    "from torchvision import datasets, transforms, models\n",
    "import numpy as np\n",
    "import matplotlib.pyplot as plt\n",
    "import os\n",
    "from PIL import Image\n",
    "from sklearn.model_selection import train_test_split\n",
    "import timm\n",
    "import random"
   ]
  },
  {
   "cell_type": "code",
   "execution_count": 2,
   "id": "0c6e4e0f",
   "metadata": {},
   "outputs": [],
   "source": [
    "def seed_everything(seed):\n",
    "    torch.manual_seed(seed) #torch를 거치는 모든 난수들의 생성순서를 고정한다\n",
    "    torch.cuda.manual_seed(seed) #cuda를 사용하는 메소드들의 난수시드는 따로 고정해줘야한다 \n",
    "    torch.cuda.manual_seed_all(seed)  # if use multi-GPU\n",
    "    torch.backends.cudnn.deterministic = True #딥러닝에 특화된 CuDNN의 난수시드도 고정 \n",
    "    torch.backends.cudnn.benchmark = False\n",
    "    np.random.seed(seed) #numpy를 사용할 경우 고정\n",
    "    random.seed(seed) #파이썬 자체 모듈 random 모듈의 시드 고정\n",
    "seed_everything(5148)"
   ]
  },
  {
   "cell_type": "code",
   "execution_count": 3,
   "id": "bc50c98a",
   "metadata": {},
   "outputs": [],
   "source": [
    "dataset_path = './Rice_Image_Dataset'\n",
    "classes = []\n",
    "\n",
    "for folder in os.listdir(dataset_path):\n",
    "    folder_path = os.path.join(dataset_path, folder)\n",
    "    if os.path.isdir(folder_path):  # Check if it's a directory\n",
    "        classes.append(folder)\n"
   ]
  },
  {
   "cell_type": "code",
   "execution_count": 4,
   "id": "a4c51ece",
   "metadata": {},
   "outputs": [],
   "source": [
    "img_sample = []\n",
    "for cat in classes:\n",
    "    folder_path = os.path.join(dataset_path, cat)\n",
    "    for img_name in os.listdir(folder_path):\n",
    "        img_path = os.path.join(folder_path, img_name)\n",
    "        img = Image.open(img_path)\n",
    "        img_sample.append(img)\n",
    "        break"
   ]
  },
  {
   "cell_type": "code",
   "execution_count": 5,
   "id": "86421971",
   "metadata": {},
   "outputs": [],
   "source": [
    "all_images = []\n",
    "all_labels = []\n",
    "\n",
    "for label in classes:\n",
    "    folder = os.path.join(dataset_path, label)\n",
    "    for img_name in os.listdir(folder):\n",
    "        img_path = os.path.join(folder, img_name)\n",
    "        all_images.append(img_path)\n",
    "        all_labels.append(label)"
   ]
  },
  {
   "cell_type": "code",
   "execution_count": 6,
   "id": "e54f04bc",
   "metadata": {},
   "outputs": [],
   "source": [
    "# Split data into training and temporary (val+test) sets\n",
    "train_images, temp_images, train_labels, temp_labels = train_test_split(\n",
    "    all_images, all_labels, test_size=0.4, stratify=all_labels, random_state=42\n",
    ")\n",
    "\n",
    "# Split the temporary set into validation and test sets\n",
    "val_images, test_images, val_labels, test_labels = train_test_split(\n",
    "    temp_images, temp_labels, test_size=0.5, stratify=temp_labels, random_state=42\n",
    ")"
   ]
  },
  {
   "cell_type": "code",
   "execution_count": 7,
   "id": "0056abdb",
   "metadata": {},
   "outputs": [],
   "source": [
    "class CustomImageDataset(Dataset):\n",
    "    def __init__(self, image_paths, labels, transform=None):\n",
    "        self.image_paths = image_paths\n",
    "        self.labels = labels\n",
    "        self.transform = transform\n",
    "        \n",
    "        self.label_to_int = {label: idx for idx, label in enumerate(sorted(set(labels)))}\n",
    "\n",
    "    def __len__(self):\n",
    "        return len(self.image_paths)\n",
    "\n",
    "    def __getitem__(self, idx):\n",
    "        img_path = self.image_paths[idx]\n",
    "        label = self.labels[idx]\n",
    "        image = Image.open(img_path).convert('RGB')  # Convert to RGB in case some images are grayscale\n",
    "\n",
    "        if self.transform:\n",
    "            image = self.transform(image)\n",
    "        \n",
    "        # Convert the label from string to integer\n",
    "        label = self.label_to_int[label]\n",
    "\n",
    "        return image, label\n"
   ]
  },
  {
   "cell_type": "code",
   "execution_count": 8,
   "id": "151b12ce",
   "metadata": {},
   "outputs": [],
   "source": [
    "transform = transforms.Compose([\n",
    "    transforms.Resize((224, 224)),\n",
    "    transforms.ToTensor()\n",
    "])\n",
    "train_dataset = CustomImageDataset(train_images, train_labels, transform=transform)\n",
    "val_dataset = CustomImageDataset(val_images, val_labels, transform=transform)\n",
    "test_dataset = CustomImageDataset(test_images, test_labels, transform=transform)\n",
    "\n",
    "# Create data loaders\n",
    "train_loader = DataLoader(train_dataset, batch_size=16, shuffle=True)\n",
    "val_loader = DataLoader(val_dataset, batch_size=16, shuffle=False)\n",
    "test_loader = DataLoader(test_dataset, batch_size=16, shuffle=False)"
   ]
  },
  {
   "cell_type": "code",
   "execution_count": 9,
   "id": "df2e5310",
   "metadata": {},
   "outputs": [],
   "source": [
    "class NasNet(nn.Module):\n",
    "    def __init__(self, num_classes=5):  # Assuming 5 classes for classification\n",
    "        super(NasNet, self).__init__()\n",
    "        self.nasnet= timm.create_model('mnasnet_100', pretrained=False, num_classes=num_classes)\n",
    "\n",
    "    def forward(self, x):\n",
    "        return self.nasnet(x)"
   ]
  },
  {
   "cell_type": "code",
   "execution_count": 10,
   "id": "f79d0ab7",
   "metadata": {},
   "outputs": [],
   "source": [
    "device = torch.device(\"cuda\" if torch.cuda.is_available() else \"cpu\")\n",
    "model = NasNet().to(device)\n",
    "criterion = nn.CrossEntropyLoss()\n",
    "optimizer = optim.Adam(model.parameters(), lr=0.0003)\n"
   ]
  },
  {
   "cell_type": "code",
   "execution_count": 11,
   "id": "7fb7efc0",
   "metadata": {},
   "outputs": [],
   "source": [
    "num_epochs = 3\n",
    "line1=[]\n",
    "line2=[]\n",
    "line3=[]\n",
    "line4=[]"
   ]
  },
  {
   "cell_type": "code",
   "execution_count": 12,
   "id": "e8c53a44",
   "metadata": {},
   "outputs": [
    {
     "name": "stdout",
     "output_type": "stream",
     "text": [
      "Epoch 1/3, Training Loss: 0.3202, Training Accuracy: 87.8711%, Validation Loss: 0.1554, Validation Accuracy: 94.4800%\n",
      "Epoch 2/3, Training Loss: 0.1048, Training Accuracy: 96.4400%, Validation Loss: 0.0412, Validation Accuracy: 98.6267%\n",
      "Epoch 3/3, Training Loss: 0.0612, Training Accuracy: 98.0289%, Validation Loss: 0.0265, Validation Accuracy: 99.1800%\n"
     ]
    }
   ],
   "source": [
    "for epoch in range(num_epochs):\n",
    "    model.train()  # Set the model to training mode\n",
    "    total_train_loss = 0.0\n",
    "    correct_train = 0\n",
    "    total_train = 0\n",
    "    for batch_idx, (data, target) in enumerate(train_loader):\n",
    "        data, target = data.to(device), target.to(device)\n",
    "        # Zero the parameter gradients\n",
    "        optimizer.zero_grad()\n",
    "        # Forward pass\n",
    "        outputs = model(data)\n",
    "        # Compute the training loss\n",
    "        loss = criterion(outputs, target)\n",
    "        # Backward pass and optimize\n",
    "        loss.backward()\n",
    "        optimizer.step()\n",
    "        total_train_loss += loss.item()\n",
    "        # Compute training accuracy\n",
    "        _, predicted = torch.max(outputs.data, 1)\n",
    "        total_train += target.size(0)\n",
    "        correct_train += (predicted == target).sum().item()\n",
    "    avg_train_loss = total_train_loss / len(train_loader)\n",
    "    train_accuracy = 100 * correct_train / total_train\n",
    "    # Validation\n",
    "    model.eval()  # Set the model to evaluation mode\n",
    "    total_val_loss = 0.0\n",
    "    correct_val = 0\n",
    "    total_val = 0\n",
    "    with torch.no_grad():\n",
    "        for data, target in val_loader:\n",
    "            data, target = data.to(device), target.to(device)\n",
    "            outputs = model(data)\n",
    "            # Compute the validation loss\n",
    "            val_loss = criterion(outputs, target)\n",
    "            total_val_loss += val_loss.item()\n",
    "            # Compute validation accuracy\n",
    "            _, predicted = torch.max(outputs.data, 1)\n",
    "            total_val += target.size(0)\n",
    "            correct_val += (predicted == target).sum().item()\n",
    "\n",
    "    avg_val_loss = total_val_loss / len(val_loader)\n",
    "    val_accuracy = 100 * correct_val / total_val\n",
    "    line1.append(train_accuracy)\n",
    "    line2.append(val_accuracy)\n",
    "    line3.append(avg_train_loss)\n",
    "    line4.append(avg_val_loss)\n",
    "    print(f\"Epoch {epoch+1}/{num_epochs}, Training Loss: {avg_train_loss:.4f}, Training Accuracy: {train_accuracy:.4f}%, Validation Loss: {avg_val_loss:.4f}, Validation Accuracy: {val_accuracy:.4f}%\")\n"
   ]
  },
  {
   "cell_type": "code",
   "execution_count": 13,
   "id": "b15b90a7",
   "metadata": {},
   "outputs": [
    {
     "name": "stdout",
     "output_type": "stream",
     "text": [
      "Test Accuracy: 99.2533\n"
     ]
    },
    {
     "data": {
      "image/png": "[encoded data removed]",
      "text/plain": [
       "<Figure size 640x480 with 4 Axes>"
      ]
     },
     "metadata": {},
     "output_type": "display_data"
    }
   ],
   "source": [
    "correct = 0\n",
    "total = 0\n",
    "\n",
    "with torch.no_grad():\n",
    "    model.eval()\n",
    "    for inputs, labels in test_loader:\n",
    "        inputs, labels = inputs.to(device), labels.to(device)\n",
    "        outputs = model(inputs)\n",
    "        _, predicted = torch.max(outputs, 1)\n",
    "        total += labels.size(0)\n",
    "        correct += (predicted == labels).sum().item()\n",
    "\n",
    "accuracy = correct / total * 100\n",
    "print(f\"Test Accuracy: {accuracy:.4f}\")\n",
    "\n",
    "epoch_numbers=[i+1 for i in range(num_epochs)]\n",
    "plt.figure()\n",
    "plt.subplot(2, 2, 1) \n",
    "plt.plot(epoch_numbers, line1, label='Train Accuracy', color='red')\n",
    "plt.xlabel('Epoch')\n",
    "plt.ylabel('Accuracy')\n",
    "plt.legend()\n",
    "\n",
    "\n",
    "plt.subplot(2, 2, 2)  \n",
    "plt.plot(epoch_numbers, line2, label='Validation Accuracy', color='blue')\n",
    "plt.xlabel('Epoch')\n",
    "plt.ylabel('Accuracy')\n",
    "plt.legend()\n",
    "\n",
    "plt.subplot(2, 2, 3) \n",
    "plt.plot(epoch_numbers, line3, label='Train Loss', color='red')\n",
    "plt.xlabel('Epoch')\n",
    "plt.ylabel('Loss')\n",
    "plt.legend()\n",
    "\n",
    "\n",
    "plt.subplot(2, 2, 4)  \n",
    "plt.plot(epoch_numbers, line4, label='Validation Loss', color='blue')\n",
    "plt.xlabel('Epoch')\n",
    "plt.ylabel('Loss')\n",
    "plt.legend()\n",
    "plt.tight_layout()  # 서브플롯간 간격 조절\n",
    "plt.show()"
   ]
  },
  {
   "cell_type": "code",
   "execution_count": 14,
   "id": "476d82c1",
   "metadata": {},
   "outputs": [],
   "source": [
    "torch.save(model.state_dict(), 'NasNet_seed.pt')"
   ]
  }
 ],
 "metadata": {
  "kernelspec": {
   "display_name": "Python 3 (ipykernel)",
   "language": "python",
   "name": "python3"
  },
  "language_info": {
   "codemirror_mode": {
    "name": "ipython",
    "version": 3
   },
   "file_extension": ".py",
   "mimetype": "text/x-python",
   "name": "python",
   "nbconvert_exporter": "python",
   "pygments_lexer": "ipython3",
   "version": "3.10.9"
  }
 },
 "nbformat": 4,
 "nbformat_minor": 5
}

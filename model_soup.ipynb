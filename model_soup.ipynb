{
 "cells": [
  {
   "cell_type": "code",
   "execution_count": 1,
   "id": "40941ba1",
   "metadata": {},
   "outputs": [],
   "source": [
    "import torch\n",
    "import torch.nn as nn\n",
    "import torch.optim as optim\n",
    "from torch.utils.data import DataLoader, random_split, Dataset\n",
    "import torch.nn.functional as F\n",
    "from torchvision import datasets, transforms, models\n",
    "import numpy as np\n",
    "import matplotlib.pyplot as plt\n",
    "import os\n",
    "from PIL import Image\n",
    "from sklearn.model_selection import train_test_split\n",
    "import timm\n",
    "import random\n",
    "import math\n",
    "from tqdm.notebook import tqdm\n",
    "device = torch.device(\"cuda\" if torch.cuda.is_available() else \"cpu\")"
   ]
  },
  {
   "cell_type": "code",
   "execution_count": 2,
   "id": "7acd8d60",
   "metadata": {},
   "outputs": [],
   "source": [
    "def seed_everything(seed):\n",
    "    torch.manual_seed(seed) #torch를 거치는 모든 난수들의 생성순서를 고정한다\n",
    "    torch.cuda.manual_seed(seed) #cuda를 사용하는 메소드들의 난수시드는 따로 고정해줘야한다 \n",
    "    torch.cuda.manual_seed_all(seed)  # if use multi-GPU\n",
    "    torch.backends.cudnn.deterministic = True #딥러닝에 특화된 CuDNN의 난수시드도 고정 \n",
    "    torch.backends.cudnn.benchmark = False\n",
    "    np.random.seed(seed) #numpy를 사용할 경우 고정\n",
    "    random.seed(seed) #파이썬 자체 모듈 random 모듈의 시드 고정\n",
    "seed_everything(5148)"
   ]
  },
  {
   "cell_type": "code",
   "execution_count": 3,
   "id": "39169b01",
   "metadata": {},
   "outputs": [],
   "source": [
    "dataset_path = './Rice_Image_Dataset'\n",
    "classes = []\n",
    "\n",
    "for folder in os.listdir(dataset_path):\n",
    "    folder_path = os.path.join(dataset_path, folder)\n",
    "    if os.path.isdir(folder_path):  # Check if it's a directory\n",
    "        classes.append(folder)\n"
   ]
  },
  {
   "cell_type": "code",
   "execution_count": 4,
   "id": "3f7d049a",
   "metadata": {},
   "outputs": [],
   "source": [
    "img_sample = []\n",
    "for cat in classes:\n",
    "    folder_path = os.path.join(dataset_path, cat)\n",
    "    for img_name in os.listdir(folder_path):\n",
    "        img_path = os.path.join(folder_path, img_name)\n",
    "        img = Image.open(img_path)\n",
    "        img_sample.append(img)\n",
    "        break"
   ]
  },
  {
   "cell_type": "code",
   "execution_count": 5,
   "id": "12255f9d",
   "metadata": {},
   "outputs": [],
   "source": [
    "all_images = []\n",
    "all_labels = []\n",
    "\n",
    "for label in classes:\n",
    "    folder = os.path.join(dataset_path, label)\n",
    "    for img_name in os.listdir(folder):\n",
    "        img_path = os.path.join(folder, img_name)\n",
    "        all_images.append(img_path)\n",
    "        all_labels.append(label)"
   ]
  },
  {
   "cell_type": "code",
   "execution_count": 6,
   "id": "f31b5bfe",
   "metadata": {},
   "outputs": [],
   "source": [
    "# Split data into training and temporary (val+test) sets\n",
    "train_images, temp_images, train_labels, temp_labels = train_test_split(\n",
    "    all_images, all_labels, test_size=0.4, stratify=all_labels, random_state=42\n",
    ")\n",
    "\n",
    "# Split the temporary set into validation and test sets\n",
    "val_images, test_images, val_labels, test_labels = train_test_split(\n",
    "    temp_images, temp_labels, test_size=0.5, stratify=temp_labels, random_state=42\n",
    ")"
   ]
  },
  {
   "cell_type": "code",
   "execution_count": 7,
   "id": "291568b8",
   "metadata": {},
   "outputs": [],
   "source": [
    "class CustomImageDataset(Dataset):\n",
    "    def __init__(self, image_paths, labels, transform=None):\n",
    "        self.image_paths = image_paths\n",
    "        self.labels = labels\n",
    "        self.transform = transform\n",
    "        \n",
    "        self.label_to_int = {label: idx for idx, label in enumerate(sorted(set(labels)))}\n",
    "\n",
    "    def __len__(self):\n",
    "        return len(self.image_paths)\n",
    "\n",
    "    def __getitem__(self, idx):\n",
    "        img_path = self.image_paths[idx]\n",
    "        label = self.labels[idx]\n",
    "        image = Image.open(img_path).convert('RGB')  # Convert to RGB in case some images are grayscale\n",
    "\n",
    "        if self.transform:\n",
    "            image = self.transform(image)\n",
    "        \n",
    "        # Convert the label from string to integer\n",
    "        label = self.label_to_int[label]\n",
    "\n",
    "        return image, label\n"
   ]
  },
  {
   "cell_type": "code",
   "execution_count": 8,
   "id": "8db41d29",
   "metadata": {},
   "outputs": [],
   "source": [
    "transform = transforms.Compose([\n",
    "    transforms.Resize((224, 224)),\n",
    "    transforms.ToTensor()\n",
    "])\n",
    "train_dataset = CustomImageDataset(train_images, train_labels, transform=transform)\n",
    "val_dataset = CustomImageDataset(val_images, val_labels, transform=transform)\n",
    "test_dataset = CustomImageDataset(test_images, test_labels, transform=transform)\n",
    "\n",
    "# Create data loaders\n",
    "train_loader = DataLoader(train_dataset, batch_size=16, shuffle=True)\n",
    "val_loader = DataLoader(val_dataset, batch_size=16, shuffle=False)\n",
    "test_loader = DataLoader(test_dataset, batch_size=16, shuffle=False)"
   ]
  },
  {
   "cell_type": "code",
   "execution_count": 9,
   "id": "4bde9c10",
   "metadata": {},
   "outputs": [],
   "source": [
    "def validate(model):\n",
    "    preds = []\n",
    "    labels = []\n",
    "    for x, y in tqdm(val_loader):\n",
    "        x = x.to(device)\n",
    "        y = y.to(device)\n",
    "        preds.append(model(x).argmax(dim=1))\n",
    "        labels.append(y)\n",
    "    return torch.mean((torch.cat(preds) == torch.cat(labels)).float()).item()\n",
    "\n",
    "def test(model):\n",
    "    preds = []\n",
    "    labels = []\n",
    "    for x, y in tqdm(test_loader):\n",
    "        x = x.to(device)\n",
    "        y = y.to(device)\n",
    "        preds.append(model(x).argmax(dim=1))\n",
    "        labels.append(y)\n",
    "    return torch.mean((torch.cat(preds) == torch.cat(labels)).float()).item()"
   ]
  },
  {
   "cell_type": "code",
   "execution_count": 10,
   "id": "f3a64a1a",
   "metadata": {},
   "outputs": [],
   "source": [
    "class ModelWrapper(torch.nn.Module):\n",
    "    def __init__(self, model, feature_dim, num_classes, normalize=False, initial_weights=None):\n",
    "        super(ModelWrapper, self).__init__()\n",
    "        self.model = model\n",
    "        self.classification_head = torch.nn.Linear(feature_dim, num_classes)\n",
    "        self.normalize = normalize\n",
    "        if not self.normalize:\n",
    "            print('normalize skipped.')\n",
    "\n",
    "        if initial_weights is not None and type(initial_weights) == tuple:\n",
    "            print('tuple.')\n",
    "            w, b = initial_weights\n",
    "            self.classification_head.weight = torch.nn.Parameter(w.clone())\n",
    "            self.classification_head.bias = torch.nn.Parameter(b.clone())\n",
    "        else:\n",
    "            if initial_weights is None:\n",
    "                initial_weights = torch.zeros_like(self.classification_head.weight)\n",
    "                torch.nn.init.kaiming_uniform_(initial_weights, a=math.sqrt(5))\n",
    "            self.classification_head.weight = torch.nn.Parameter(initial_weights.clone())\n",
    "            # Note: modified. Initial bug in forgetting to zero bias.\n",
    "            self.classification_head.bias = torch.nn.Parameter(torch.zeros_like(self.classification_head.bias))\n",
    "\n",
    "        # Note: modified. Get rid of the language part.\n",
    "        if hasattr(self.model, 'transformer'):\n",
    "            delattr(self.model, 'transformer')\n",
    "\n",
    "\n",
    "    def forward(self, images):\n",
    "        features = self.model.encode_image(images).float()\n",
    "        if self.normalize:\n",
    "            features = features / features.norm(dim=-1, keepdim=True)\n",
    "        logits = self.classification_head(features)\n",
    "        return logits"
   ]
  },
  {
   "cell_type": "code",
   "execution_count": 11,
   "id": "377bf5b5",
   "metadata": {},
   "outputs": [
    {
     "name": "stdout",
     "output_type": "stream",
     "text": [
      "Loading pre_DenseNet_seed.pt\n",
      "Loading pre_DenseNet_seed_2.pt\n",
      "Loading best_model.pt\n",
      "Loading pre_DenseNet_seed_1.pt\n"
     ]
    }
   ],
   "source": [
    "device = 'cuda' if torch.cuda.is_available() else 'cpu'\n",
    "state_dicts = []\n",
    "# 0.0005, 0.0003, aug0.0003, 0.0001\n",
    "file_name=['pre_DenseNet_seed.pt','pre_DenseNet_seed_2.pt','best_model.pt','pre_DenseNet_seed_1.pt']\n",
    "for f in file_name:\n",
    "    print(f'Loading {f}')\n",
    "    state_dicts.append(torch.load(f,map_location=device))"
   ]
  },
  {
   "cell_type": "code",
   "execution_count": 12,
   "id": "9a658351",
   "metadata": {},
   "outputs": [
    {
     "data": {
      "application/vnd.jupyter.widget-view+json": {
       "model_id": "8f6318d614b345b5b2c6d8f10fdb3214",
       "version_major": 2,
       "version_minor": 0
      },
      "text/plain": [
       "  0%|          | 0/938 [00:00<?, ?it/s]"
      ]
     },
     "metadata": {},
     "output_type": "display_data"
    },
    {
     "data": {
      "application/vnd.jupyter.widget-view+json": {
       "model_id": "83dfaffc3d714aa1b505358fcc5ae786",
       "version_major": 2,
       "version_minor": 0
      },
      "text/plain": [
       "  0%|          | 0/938 [00:00<?, ?it/s]"
      ]
     },
     "metadata": {},
     "output_type": "display_data"
    },
    {
     "data": {
      "application/vnd.jupyter.widget-view+json": {
       "model_id": "fb94d53197a0407ab2f130ca9b69e1de",
       "version_major": 2,
       "version_minor": 0
      },
      "text/plain": [
       "  0%|          | 0/938 [00:00<?, ?it/s]"
      ]
     },
     "metadata": {},
     "output_type": "display_data"
    },
    {
     "data": {
      "application/vnd.jupyter.widget-view+json": {
       "model_id": "dfbd961441784cad8a3cf0fd6326eba0",
       "version_major": 2,
       "version_minor": 0
      },
      "text/plain": [
       "  0%|          | 0/938 [00:00<?, ?it/s]"
      ]
     },
     "metadata": {},
     "output_type": "display_data"
    },
    {
     "data": {
      "application/vnd.jupyter.widget-view+json": {
       "model_id": "8f9be900868442a890b16a3cb11f4f73",
       "version_major": 2,
       "version_minor": 0
      },
      "text/plain": [
       "  0%|          | 0/938 [00:00<?, ?it/s]"
      ]
     },
     "metadata": {},
     "output_type": "display_data"
    },
    {
     "data": {
      "application/vnd.jupyter.widget-view+json": {
       "model_id": "43147347ab274024b8edf2d36e425e0f",
       "version_major": 2,
       "version_minor": 0
      },
      "text/plain": [
       "  0%|          | 0/938 [00:00<?, ?it/s]"
      ]
     },
     "metadata": {},
     "output_type": "display_data"
    },
    {
     "data": {
      "application/vnd.jupyter.widget-view+json": {
       "model_id": "0927a60c40e14bff9562a11efe87934a",
       "version_major": 2,
       "version_minor": 0
      },
      "text/plain": [
       "  0%|          | 0/938 [00:00<?, ?it/s]"
      ]
     },
     "metadata": {},
     "output_type": "display_data"
    },
    {
     "data": {
      "application/vnd.jupyter.widget-view+json": {
       "model_id": "6b43c41b91734523af5f95fab7dfbf19",
       "version_major": 2,
       "version_minor": 0
      },
      "text/plain": [
       "  0%|          | 0/938 [00:00<?, ?it/s]"
      ]
     },
     "metadata": {},
     "output_type": "display_data"
    }
   ],
   "source": [
    "val_results = []\n",
    "test_results = []\n",
    "\n",
    "def define_model(file_name):\n",
    "    class DenseNet(nn.Module):\n",
    "        def __init__(self, num_classes=5):  # Assuming 5 classes for classification\n",
    "            super(DenseNet, self).__init__()\n",
    "            self.densenet= timm.create_model('densenet121', pretrained=True, num_classes=num_classes)\n",
    "        def forward(self, x):\n",
    "            return self.densenet(x)\n",
    "    # 모델 불러오기\n",
    "    densenet_model = DenseNet().to(device)\n",
    "    densenet_model.load_state_dict(torch.load(file_name))\n",
    "    return densenet_model\n",
    "\n",
    "for i in range(len(state_dicts)):\n",
    "    #feature_dim = model.head.fc.weight.shape[1]\n",
    "    feature_dim=1024\n",
    "    num_classes = 5\n",
    "    normalize = True\n",
    "    model=define_model(file_name[i])\n",
    "    val_results.append(validate(model))\n",
    "    test_results.append(test(model))\n"
   ]
  },
  {
   "cell_type": "code",
   "execution_count": 13,
   "id": "12551925",
   "metadata": {},
   "outputs": [],
   "source": [
    "def get_model(state_dicts, alphal):\n",
    "    feature_dim=1024\n",
    "    num_classes = 5\n",
    "    model=define_model(file_name[0])\n",
    "    sd = {k : state_dicts[0][k].clone() * alphal[0] for k in state_dicts[0].keys()}\n",
    "    for i in range(1, len(state_dicts)):\n",
    "        for k in state_dicts[i].keys():\n",
    "            sd[k] = sd[k] + state_dicts[i][k].clone() * alphal[i]\n",
    "    model.load_state_dict(sd)\n",
    "    model = model.to(device)\n",
    "    return model"
   ]
  },
  {
   "cell_type": "code",
   "execution_count": 14,
   "id": "0a00d3f6",
   "metadata": {},
   "outputs": [
    {
     "data": {
      "text/plain": [
       "([0, 1, 2, 3],\n",
       " [Text(0, 0, 'Model 1'),\n",
       "  Text(1, 0, 'Model 2'),\n",
       "  Text(2, 0, 'Model 3'),\n",
       "  Text(3, 0, 'Model 4')])"
      ]
     },
     "execution_count": 14,
     "metadata": {},
     "output_type": "execute_result"
    },
    {
     "data": {
      "image/png": "[encoded data removed]",
      "text/plain": [
       "<Figure size 640x480 with 1 Axes>"
      ]
     },
     "metadata": {},
     "output_type": "display_data"
    }
   ],
   "source": [
    "names = [f'Model {i+1}' for i in range(len(state_dicts))]\n",
    "plt.bar(names, test_results)\n",
    "plt.title(\"Test Accuracy By Model\")\n",
    "plt.ylim([0.90,1])\n",
    "plt.xticks(rotation=30, ha='right')"
   ]
  },
  {
   "cell_type": "code",
   "execution_count": 15,
   "id": "aff04e62",
   "metadata": {},
   "outputs": [
    {
     "data": {
      "application/vnd.jupyter.widget-view+json": {
       "model_id": "c5f45f9e4b4548a7a2d545ca416070a7",
       "version_major": 2,
       "version_minor": 0
      },
      "text/plain": [
       "  0%|          | 0/938 [00:00<?, ?it/s]"
      ]
     },
     "metadata": {},
     "output_type": "display_data"
    }
   ],
   "source": [
    "alphal = [1 / len(state_dicts) for i in range(len(state_dicts))]\n",
    "model = get_model(state_dicts, alphal)\n",
    "test_results.append(test(model))"
   ]
  },
  {
   "cell_type": "code",
   "execution_count": 16,
   "id": "075fe252",
   "metadata": {},
   "outputs": [
    {
     "data": {
      "text/plain": [
       "([0, 1, 2, 3, 4],\n",
       " [Text(0, 0, 'Model 1'),\n",
       "  Text(1, 0, 'Model 2'),\n",
       "  Text(2, 0, 'Model 3'),\n",
       "  Text(3, 0, 'Model 4'),\n",
       "  Text(4, 0, 'Uniform Soup')])"
      ]
     },
     "execution_count": 16,
     "metadata": {},
     "output_type": "execute_result"
    },
    {
     "data": {
      "image/png": "[encoded data removed]",
      "text/plain": [
       "<Figure size 640x480 with 1 Axes>"
      ]
     },
     "metadata": {},
     "output_type": "display_data"
    }
   ],
   "source": [
    "names.append(\"Uniform Soup\")\n",
    "plt.bar(names, test_results)\n",
    "plt.title(\"Test Accuracy By Model\")\n",
    "plt.ylim([0.95,1])\n",
    "plt.xticks(rotation=30, ha='right')"
   ]
  },
  {
   "cell_type": "code",
   "execution_count": 17,
   "id": "f6c8e56c",
   "metadata": {},
   "outputs": [
    {
     "data": {
      "application/vnd.jupyter.widget-view+json": {
       "model_id": "7e7f33002d6c4eb0a3ea2b0732cc506a",
       "version_major": 2,
       "version_minor": 0
      },
      "text/plain": [
       "  0%|          | 0/938 [00:00<?, ?it/s]"
      ]
     },
     "metadata": {},
     "output_type": "display_data"
    },
    {
     "name": "stdout",
     "output_type": "stream",
     "text": [
      "Models [0, 1] got 99.76000189781189% on validation.\n"
     ]
    },
    {
     "data": {
      "application/vnd.jupyter.widget-view+json": {
       "model_id": "856611a233cb4abb883cea355117d483",
       "version_major": 2,
       "version_minor": 0
      },
      "text/plain": [
       "  0%|          | 0/938 [00:00<?, ?it/s]"
      ]
     },
     "metadata": {},
     "output_type": "display_data"
    },
    {
     "name": "stdout",
     "output_type": "stream",
     "text": [
      "Models [0, 2] got 99.05333518981934% on validation.\n"
     ]
    },
    {
     "data": {
      "application/vnd.jupyter.widget-view+json": {
       "model_id": "02c2759fa53b46198a12bed246f0e441",
       "version_major": 2,
       "version_minor": 0
      },
      "text/plain": [
       "  0%|          | 0/938 [00:00<?, ?it/s]"
      ]
     },
     "metadata": {},
     "output_type": "display_data"
    },
    {
     "name": "stdout",
     "output_type": "stream",
     "text": [
      "Models [0, 3] got 99.80000257492065% on validation.\n"
     ]
    }
   ],
   "source": [
    "ranked_candidates = [i for i in range(len(state_dicts))]\n",
    "ranked_candidates.sort(key=lambda x: -val_results[x])\n",
    "\n",
    "current_best = val_results[ranked_candidates[0]]\n",
    "best_ingredients = ranked_candidates[:1]\n",
    "for i in range(1, len(state_dicts)):\n",
    "    # add current index to the ingredients\n",
    "    ingredient_indices = best_ingredients \\\n",
    "    + [ranked_candidates[i]]\n",
    "    alphal = [0 for i in range(len(state_dicts))]\n",
    "    for j in ingredient_indices:\n",
    "        alphal[j] = 1 / len(ingredient_indices)\n",
    "  \n",
    "    # benchmark and conditionally append\n",
    "    model = get_model(state_dicts, alphal)\n",
    "    current = validate(model)\n",
    "    print(f'Models {ingredient_indices} got {current*100}% on validation.')\n",
    "    if current > current_best:\n",
    "        current_best = current\n",
    "        best_ingredients = ingredient_indices\n",
    "\n"
   ]
  },
  {
   "cell_type": "code",
   "execution_count": 18,
   "id": "7741da13",
   "metadata": {},
   "outputs": [
    {
     "data": {
      "application/vnd.jupyter.widget-view+json": {
       "model_id": "6f872cd5d62440ef8a1a38bf2ae4b575",
       "version_major": 2,
       "version_minor": 0
      },
      "text/plain": [
       "  0%|          | 0/938 [00:00<?, ?it/s]"
      ]
     },
     "metadata": {},
     "output_type": "display_data"
    }
   ],
   "source": [
    "alphal = [0 for i in range(len(state_dicts))]\n",
    "for j in best_ingredients:\n",
    "    alphal[j] = 1 / len(best_ingredients)\n",
    "model = get_model(state_dicts, alphal)\n",
    "\n",
    "test_results.append(test(model))"
   ]
  },
  {
   "cell_type": "code",
   "execution_count": 19,
   "id": "00120b21",
   "metadata": {},
   "outputs": [
    {
     "data": {
      "text/plain": [
       "([0, 1, 2, 3, 4, 5],\n",
       " [Text(0, 0, 'Model 1'),\n",
       "  Text(1, 0, 'Model 2'),\n",
       "  Text(2, 0, 'Model 3'),\n",
       "  Text(3, 0, 'Model 4'),\n",
       "  Text(4, 0, 'Uniform Soup'),\n",
       "  Text(5, 0, 'Greedy Soup')])"
      ]
     },
     "execution_count": 19,
     "metadata": {},
     "output_type": "execute_result"
    },
    {
     "data": {
      "image/png": "[encoded data removed]",
      "text/plain": [
       "<Figure size 640x480 with 1 Axes>"
      ]
     },
     "metadata": {},
     "output_type": "display_data"
    }
   ],
   "source": [
    "names.append(\"Greedy Soup\")\n",
    "plt.bar(names, test_results)\n",
    "plt.title(\"Test Accuracy By Model\")\n",
    "plt.ylim([0.95,1])\n",
    "plt.xticks(rotation=30, ha='right')"
   ]
  },
  {
   "cell_type": "code",
   "execution_count": 21,
   "id": "443d638f",
   "metadata": {},
   "outputs": [
    {
     "name": "stdout",
     "output_type": "stream",
     "text": [
      "Model 1 Accuracy: 0.9980666637420654\n",
      "Model 2 Accuracy: 0.9962000250816345\n",
      "Model 3 Accuracy: 0.9956666827201843\n",
      "Model 4 Accuracy: 0.9944666624069214\n",
      "Uniform Soup Accuracy: 0.9980000257492065\n",
      "Greedy Soup Accuracy: 0.9980666637420654\n"
     ]
    }
   ],
   "source": [
    "for i in range(len(names)):\n",
    "    print(names[i],\"Accuracy:\",test_results[i])"
   ]
  }
 ],
 "metadata": {
  "kernelspec": {
   "display_name": "Python 3 (ipykernel)",
   "language": "python",
   "name": "python3"
  },
  "language_info": {
   "codemirror_mode": {
    "name": "ipython",
    "version": 3
   },
   "file_extension": ".py",
   "mimetype": "text/x-python",
   "name": "python",
   "nbconvert_exporter": "python",
   "pygments_lexer": "ipython3",
   "version": "3.10.9"
  }
 },
 "nbformat": 4,
 "nbformat_minor": 5
}
